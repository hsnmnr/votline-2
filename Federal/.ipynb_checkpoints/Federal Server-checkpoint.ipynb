{
 "cells": [
  {
   "cell_type": "markdown",
   "metadata": {},
   "source": [
    "# Importing Libraries"
   ]
  },
  {
   "cell_type": "code",
   "execution_count": null,
   "metadata": {},
   "outputs": [],
   "source": [
    "# Importing Libraries\n",
    "import socket\n",
    "import threading\n",
    "import time\n",
    "import json\n",
    "import os.path"
   ]
  },
  {
   "cell_type": "markdown",
   "metadata": {},
   "source": [
    "# Utility Functions"
   ]
  },
  {
   "cell_type": "code",
   "execution_count": null,
   "metadata": {},
   "outputs": [],
   "source": [
    "def sendJsonVote(socket, name, province, part, city, party): # create and send json vote\n",
    "    jasonObj = writeJsonVote(name, province, part, city, party)\n",
    "    sendJson(socket, jasonObj)\n",
    "\n",
    "def recvJsonVote(socket): # recv and decode json vote\n",
    "    res = recvJson(socket)\n",
    "    return readJsonVote(res)\n",
    "\n",
    "def sendJson(socket, jasonObj): # send json vote\n",
    "    jasonStr = json.dumps(jasonObj)\n",
    "    jasonStr = jasonStr.encode()\n",
    "    socket.send(jasonStr)\n",
    "    \n",
    "def recvJson(socket): # recv json vote\n",
    "    res = socket.recv(1024)\n",
    "    res = res.decode()\n",
    "    res = json.loads(res)\n",
    "    return res\n",
    "\n",
    "def readJsonVote(res): # decode json\n",
    "    return res[\"Name\"], res[\"Province\"], res[\"Part\"], res[\"City\"], res[\"Party\"]\n",
    "\n",
    "def writeJsonVote(name, province, part, city, party):\n",
    "    jasonObj = {\"Name\": name, \"Province\": province, \"Part\": part, \"City\": city, \"Party\": party}\n",
    "    return jasonObj\n",
    "\n",
    "def printJsonVote(res):\n",
    "    print(res[\"Name\"], res[\"Province\"], res[\"Part\"], res[\"City\"], res[\"Party\"])\n",
    "\n",
    "def printVote(name, province, part, city, party):\n",
    "    print(name, province, part, city, party)\n",
    "\n",
    "def successfullyVoted(vote):\n",
    "    print(\"Following Vote Added Successfully\")\n",
    "    printJsonVote(vote)"
   ]
  },
  {
   "cell_type": "code",
   "execution_count": null,
   "metadata": {},
   "outputs": [],
   "source": [
    "def whichProvince(vote):\n",
    "    name, province, part, city, party = readJsonVote(vote)\n",
    "    ind = provinces.index(province)\n",
    "    port = provincesPorts[ind]\n",
    "    \n",
    "    return socket.gethostname(), port"
   ]
  },
  {
   "cell_type": "code",
   "execution_count": null,
   "metadata": {},
   "outputs": [],
   "source": [
    "# function to Save Vote Data as Json Document \n",
    "def save_vote_data(jsonObj, filename):\n",
    "    newObj = read_file_for_append(jsonObj, filename)\n",
    "    #print(\"Data : \" + str(newObj))\n",
    "    with open(filename,'w') as f: \n",
    "        json.dump(newObj, f, indent=4) \n",
    "\n",
    "# function to add to JSON \n",
    "def read_file_for_append(jsonObj, filename): \n",
    "    with open(filename) as f:\n",
    "        file_data = json.load(f)\n",
    "        \n",
    "        file_data.append(jsonObj)\n",
    "        \n",
    "    return file_data"
   ]
  },
  {
   "cell_type": "code",
   "execution_count": null,
   "metadata": {},
   "outputs": [],
   "source": [
    "# Vote Counting\n",
    "\n",
    "# # provinces = [\"Punjab\", \"Sindh\", \"KPK\", \"Balochistan\"] # Provinces\n",
    "# # provincesPorts = [20002, 20005, 20008, 20011]\n",
    "# # parts = [\"Lower\", \"Upper\"] # Province Parts\n",
    "# # parties = [\"PTI\", \"PMLN\"] # Election Parties\n",
    "\n",
    "# # total_provinces = [0, 0, 0, 0]\n",
    "# # total_parties = [0, 0]\n",
    "# # total_punjab = [0, 0, 0, 0, 0] # punjab, lower, upper, pti, pmln\n",
    "# # total_sindh = [0, 0, 0, 0, 0] # punjab, lower, upper, pti, pmln\n",
    "# # total_kpk = [0, 0, 0, 0, 0] # punjab, lower, upper, pti, pmln\n",
    "# # total_balochistan = [0, 0, 0, 0, 0] # punjab, lower, upper, pti, pmln\n",
    "\n",
    "def add_vote(vote):\n",
    "    global provinces, parts, parties\n",
    "    global total_provinces, total_parties, total_punjab, total_sindh, total_kpk, total_balochistan\n",
    "    \n",
    "    name, province, part, city, party = readJsonVote(vote) \n",
    "    \n",
    "    indProv = provinces.index(province)\n",
    "    addProvince(indProv)\n",
    "    indParty = parties.index(party)\n",
    "    addParty(indParty)\n",
    "    indPart = parts.index(part)\n",
    "    \n",
    "    if indProv == 0:\n",
    "        total_punjab[0] = total_punjab[0] + 1\n",
    "        total_punjab[1 + indPart] = total_punjab[1 + indPart] + 1\n",
    "        total_punjab[3 + indParty] = total_punjab[3 + indParty] + 1\n",
    "        \n",
    "    elif indProv == 1:\n",
    "        total_sindh[0] = total_sindh[0] + 1\n",
    "        total_sindh[1 + indPart] = total_sindh[1 + indPart] + 1\n",
    "        total_sindh[3 + indParty] = total_sindh[3 + indParty] + 1\n",
    "    elif indProv == 2:\n",
    "        total_kpk[0] = total_kpk[0] + 1\n",
    "        total_kpk[1 + indPart] = total_kpk[1 + indPart] + 1\n",
    "        total_kpk[3 + indParty] = total_kpk[3 + indParty] + 1\n",
    "    elif indProv == 3:\n",
    "        total_balochistan[0] = total_balochistan[0] + 1\n",
    "        total_balochistan[1 + indPart] = total_balochistan[1 + indPart] + 1\n",
    "        total_balochistan[3 + indParty] = total_balochistan[3 + indParty] + 1\n",
    "        \n",
    "def addProvince(ind):\n",
    "    global provinces, parts, parties\n",
    "    global total_provinces, total_parties, total_punjab, total_sindh, total_kpk, total_balochistan\n",
    "    \n",
    "    total_provinces[ind] = total_provinces[ind] + 1\n",
    "    \n",
    "def addParty(ind):\n",
    "    global provinces, parts, parties\n",
    "    global total_provinces, total_parties, total_punjab, total_sindh, total_kpk, total_balochistan\n",
    "    \n",
    "    total_parties[ind] = total_parties[ind] + 1\n",
    "    \n",
    "def print_votes_stats():\n",
    "    global provinces, parts, parties\n",
    "    global total_provinces, total_parties, total_punjab, total_sindh, total_kpk, total_balochistan\n",
    "    \n",
    "    print(\"<---Provinces--->\")\n",
    "    print(\"Total : \" + str(total_provinces[0] + total_provinces[1] + total_provinces[2] + total_provinces[3]))\n",
    "    for pro in provinces:\n",
    "        print(pro + \" : \" + str(total_provinces[provinces.index(pro)]))\n",
    "    for par in parties:\n",
    "        print(par + \" : \" + str(total_parties[parties.index(par)]))\n",
    "        \n",
    "def print_province_stats():\n",
    "    global provinces, parts, parties\n",
    "    global total_provinces, total_parties, total_punjab, total_sindh, total_kpk, total_balochistan\n",
    "    \n",
    "    print(\"<---Punjab--->\\n->Total : \" + str(total_punjab[0]) + \"\\n->Lower : \" + str(total_punjab[1]) + \"\\n->Upper : \" + str(total_punjab[2]) + \"\\n->PTI : \" + str(total_punjab[3]) + \"\\n->PMLN : \" + str(total_punjab[4]))\n",
    "    print(\"\\n<---Sindh--->\\n->Total : \" + str(total_sindh[0]) + \"\\n->Lower : \" + str(total_sindh[1]) + \"\\n->Upper : \" + str(total_sindh[2]) + \"\\n->PTI : \" + str(total_sindh[3]) + \"\\n->PMLN : \" + str(total_sindh[4]))\n",
    "    print(\"\\n<---KPK--->\\n->Total : \" + str(total_kpk[0]) + \"\\n->Lower : \" + str(total_kpk[1]) + \"\\n->Upper : \" + str(total_kpk[2]) + \"\\n->PTI : \" + str(total_kpk[3]) + \"\\n->PMLN : \" + str(total_kpk[4]))\n",
    "    print(\"\\n<---Balochistam--->\\n->Total : \" + str(total_balochistan[0]) + \"\\n->Lower : \" + str(total_balochistan[1]) + \"\\n->Upper : \" + str(total_balochistan[2]) + \"\\n->PTI : \" + str(total_balochistan[3]) + \"\\n->PMLN : \" + str(total_balochistan[4]))\n",
    "    "
   ]
  },
  {
   "cell_type": "code",
   "execution_count": null,
   "metadata": {},
   "outputs": [],
   "source": []
  },
  {
   "cell_type": "code",
   "execution_count": null,
   "metadata": {},
   "outputs": [],
   "source": []
  },
  {
   "cell_type": "markdown",
   "metadata": {},
   "source": [
    "# Multi Threaded Class"
   ]
  },
  {
   "cell_type": "code",
   "execution_count": null,
   "metadata": {},
   "outputs": [],
   "source": [
    "# Multi Threading Class\n",
    "class NewClient(threading.Thread):\n",
    "    def __init__(self,clientAddress,clientsocket, fileName):\n",
    "        threading.Thread.__init__(self)\n",
    "        self.address = clientAddress\n",
    "        self.socket = clientsocket\n",
    "        self.file = fileName\n",
    "        \n",
    "        print (\"New connection added: \", clientAddress)\n",
    "        \n",
    "    def run(self):\n",
    "        \n",
    "        jsonVote = recvJson(self.socket)\n",
    "        #print(\"Vote Info:\")\n",
    "        #printJsonVote(jsonVote)\n",
    "        \n",
    "        # Sending vote to province\n",
    "        save_vote_data(jsonVote, self.file)\n",
    "        add_vote(jsonVote)\n",
    "        successfullyVoted(jsonVote)\n",
    "        sendJson(self.socket, jsonVote)\n",
    "                \n",
    "        print_votes_stats()\n",
    "        print_province_stats()\n",
    "        \n",
    "\n",
    "        "
   ]
  },
  {
   "cell_type": "markdown",
   "metadata": {},
   "source": [
    "# Main Socket Code"
   ]
  },
  {
   "cell_type": "code",
   "execution_count": null,
   "metadata": {},
   "outputs": [],
   "source": [
    "# defining some values\n",
    "provinces = [\"Punjab\", \"Sindh\", \"KPK\", \"Balochistan\"] # Provinces\n",
    "provincesPorts = [20002, 20005, 20008, 20011]\n",
    "parts = [\"Lower\", \"Upper\"] # Province Parts\n",
    "parties = [\"PTI\", \"PMLN\"] # Election Parties\n",
    "\n",
    "\n",
    "# Vote Count\n",
    "total_provinces = [0, 0, 0, 0]\n",
    "total_parties = [0, 0]\n",
    "total_punjab = [0, 0, 0, 0, 0] # punjab, lower, upper, pti, pmln\n",
    "total_sindh = [0, 0, 0, 0, 0] # punjab, lower, upper, pti, pmln\n",
    "total_kpk = [0, 0, 0, 0, 0] # punjab, lower, upper, pti, pmln\n",
    "total_balochistan = [0, 0, 0, 0, 0] # punjab, lower, upper, pti, pmln"
   ]
  },
  {
   "cell_type": "code",
   "execution_count": null,
   "metadata": {},
   "outputs": [],
   "source": [
    "fileName = \"files\\Federal_Vote_Data.json\"\n",
    "\n",
    "file_exists = os.path.isfile(fileName) \n",
    " \n",
    "if not file_exists:\n",
    "    with open(fileName,'w') as f: # this file will hold the vote data\n",
    "        json.dump([], f, indent=4)"
   ]
  },
  {
   "cell_type": "code",
   "execution_count": null,
   "metadata": {},
   "outputs": [],
   "source": [
    "#Listening for socket\n",
    "s = socket.socket(socket.AF_INET, socket.SOCK_STREAM)\n",
    "s.setsockopt(socket.SOL_SOCKET, socket.SO_REUSEADDR, 1)\n",
    "s.bind((socket.gethostname(), 20001))\n",
    "\n",
    "threadsList = []\n",
    "\n",
    "print(\"Listening for Provencial Requests\\n\")\n",
    "while True:\n",
    "    s.listen(50)\n",
    "    clientsocket, address = s.accept()\n",
    "    \n",
    "    newthread = NewClient(address,clientsocket,fileName) \n",
    "    newthread.start() \n",
    "    threadsList.append(newthread)\n",
    "        \n",
    "    \n",
    "for thread in threadsList:\n",
    "    thread.join()\n"
   ]
  },
  {
   "cell_type": "code",
   "execution_count": null,
   "metadata": {},
   "outputs": [],
   "source": []
  },
  {
   "cell_type": "code",
   "execution_count": null,
   "metadata": {},
   "outputs": [],
   "source": []
  },
  {
   "cell_type": "code",
   "execution_count": null,
   "metadata": {},
   "outputs": [],
   "source": []
  }
 ],
 "metadata": {
  "kernelspec": {
   "display_name": "Python 3",
   "language": "python",
   "name": "python3"
  },
  "language_info": {
   "codemirror_mode": {
    "name": "ipython",
    "version": 3
   },
   "file_extension": ".py",
   "mimetype": "text/x-python",
   "name": "python",
   "nbconvert_exporter": "python",
   "pygments_lexer": "ipython3",
   "version": "3.8.1"
  }
 },
 "nbformat": 4,
 "nbformat_minor": 4
}
