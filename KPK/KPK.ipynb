{
 "cells": [
  {
   "cell_type": "markdown",
   "metadata": {},
   "source": [
    "# Importing Libraries"
   ]
  },
  {
   "cell_type": "code",
   "execution_count": 1,
   "metadata": {},
   "outputs": [],
   "source": [
    "# Importing Libraries\n",
    "import socket\n",
    "import threading\n",
    "import time\n",
    "import json\n",
    "import os.path"
   ]
  },
  {
   "cell_type": "markdown",
   "metadata": {},
   "source": [
    "# Utility Functions"
   ]
  },
  {
   "cell_type": "code",
   "execution_count": 2,
   "metadata": {},
   "outputs": [],
   "source": [
    "def sendJsonVote(socket, name, province, part, city, party): # create and send json vote\n",
    "    jasonObj = writeJsonVote(name, province, part, city, party)\n",
    "    sendJson(socket, jasonObj)\n",
    "\n",
    "def recvJsonVote(socket): # recv and decode json vote\n",
    "    res = recvJson(socket)\n",
    "    return readJsonVote(res)\n",
    "\n",
    "def sendJson(socket, jasonObj): # send json vote\n",
    "    jasonStr = json.dumps(jasonObj)\n",
    "    jasonStr = jasonStr.encode()\n",
    "    socket.send(jasonStr)\n",
    "    \n",
    "def recvJson(socket): # recv json vote\n",
    "    res = socket.recv(1024)\n",
    "    res = res.decode()\n",
    "    res = json.loads(res)\n",
    "    return res\n",
    "\n",
    "def readJsonVote(res): # decode json\n",
    "    return res[\"Name\"], res[\"Province\"], res[\"Part\"], res[\"City\"], res[\"Party\"]\n",
    "\n",
    "def writeJsonVote(name, province, part, city, party):\n",
    "    jasonObj = {\"Name\": name, \"Province\": province, \"Part\": part, \"City\": city, \"Party\": party}\n",
    "    return jasonObj\n",
    "\n",
    "def printJsonVote(res):\n",
    "    print(res[\"Name\"], res[\"Province\"], res[\"Part\"], res[\"City\"], res[\"Party\"])\n",
    "\n",
    "def printVote(name, province, part, city, party):\n",
    "    print(name, province, part, city, party)\n",
    "\n",
    "def successfullyVoted(vote):\n",
    "    print(\"Following Vote Added Successfully\")\n",
    "    printJsonVote(vote)"
   ]
  },
  {
   "cell_type": "code",
   "execution_count": 3,
   "metadata": {},
   "outputs": [],
   "source": [
    "def whichPart(vote):\n",
    "    name, province, part, city, party = readJsonVote(vote)\n",
    "    ind = parts.index(part)\n",
    "    port = partsPorts[ind]\n",
    "    \n",
    "    print(\"Port : \" + str(port))\n",
    "    return socket.gethostname(), port"
   ]
  },
  {
   "cell_type": "code",
   "execution_count": 4,
   "metadata": {},
   "outputs": [],
   "source": [
    "# function to Save Vote Data as Json Document \n",
    "def save_vote_data(jsonObj, filename):\n",
    "    newObj = read_file_for_append(jsonObj, filename)\n",
    "    #print(\"Data : \" + str(newObj))\n",
    "    with open(filename,'w') as f: \n",
    "        json.dump(newObj, f, indent=4) \n",
    "\n",
    "# function to add to JSON \n",
    "def read_file_for_append(jsonObj, filename): \n",
    "    with open(filename) as f:\n",
    "        file_data = json.load(f)\n",
    "        \n",
    "        file_data.append(jsonObj)\n",
    "        \n",
    "    return file_data"
   ]
  },
  {
   "cell_type": "code",
   "execution_count": 5,
   "metadata": {},
   "outputs": [],
   "source": [
    "# Vote Counting\n",
    "\n",
    "# # provinces = [\"Punjab\", \"Sindh\", \"KPK\", \"Balochistan\"] # Provinces\n",
    "# # provincesPorts = [20002, 20005, 20008, 20011]\n",
    "# # parts = [\"Lower\", \"Upper\"] # Province Parts\n",
    "# # parties = [\"PTI\", \"PMLN\"] # Election Parties\n",
    "\n",
    "# # total_provinces = [0, 0, 0, 0]\n",
    "# # total_parties = [0, 0]\n",
    "# # total_punjab = [0, 0, 0, 0, 0] # punjab, lower, upper, pti, pmln\n",
    "# # total_sindh = [0, 0, 0, 0, 0] # punjab, lower, upper, pti, pmln\n",
    "# # total_kpk = [0, 0, 0, 0, 0] # punjab, lower, upper, pti, pmln\n",
    "# # total_balochistan = [0, 0, 0, 0, 0] # punjab, lower, upper, pti, pmln\n",
    "\n",
    "def add_vote(vote):\n",
    "    global province_name, parts, parties\n",
    "    global total_parties, total_province\n",
    "    \n",
    "    name, province, part, city, party = readJsonVote(vote) \n",
    "    \n",
    "    \n",
    "    indParty = parties.index(party)\n",
    "    addParty(indParty)\n",
    "    indPart = parts.index(part)\n",
    "    \n",
    "    total_province[0] = total_province[0] + 1\n",
    "    total_province[1 + indPart] = total_province[1 + indPart] + 1\n",
    "    total_province[3 + indParty] = total_province[3 + indParty] + 1\n",
    "    \n",
    "    \n",
    "def addParty(ind):\n",
    "    global province_name, parts, parties\n",
    "    global total_parties, total_province\n",
    "    \n",
    "    total_parties[ind] = total_parties[ind] + 1\n",
    "        \n",
    "def print_province_stats():\n",
    "    global province_name, parts, parties\n",
    "    global total_parties, total_province\n",
    "    \n",
    "    print(province_name + \"\\n->Total : \" + str(total_province[0]) + \"\\n->Lower : \" + str(total_province[1]) + \"\\n->Upper : \" + str(total_province[2]) + \"\\n->PTI : \" + str(total_province[3]) + \"\\n->PMLN : \" + str(total_province[4]))\n",
    "    "
   ]
  },
  {
   "cell_type": "code",
   "execution_count": null,
   "metadata": {},
   "outputs": [],
   "source": []
  },
  {
   "cell_type": "code",
   "execution_count": null,
   "metadata": {},
   "outputs": [],
   "source": []
  },
  {
   "cell_type": "markdown",
   "metadata": {},
   "source": [
    "# Multi Threaded Class"
   ]
  },
  {
   "cell_type": "code",
   "execution_count": 6,
   "metadata": {},
   "outputs": [],
   "source": [
    "# Multi Threading Class\n",
    "class NewClient(threading.Thread):\n",
    "    def __init__(self,clientAddress,clientsocket, fileName):\n",
    "        threading.Thread.__init__(self)\n",
    "        self.address = clientAddress\n",
    "        self.socket = clientsocket\n",
    "        self.file = fileName\n",
    "        \n",
    "        print (\"New connection added: \", clientAddress)\n",
    "        \n",
    "    def run(self):\n",
    "        print (\"\\nConnection from : \", self.address)\n",
    "        \n",
    "        jsonVote = recvJson(self.socket)\n",
    "        print(\"Vote Info:\")\n",
    "        printJsonVote(jsonVote)\n",
    "        \n",
    "        \n",
    "        save_vote_data(jsonVote, self.file)\n",
    "        add_vote(jsonVote)\n",
    "        successfullyVoted(jsonVote)\n",
    "        sendJson(self.socket, jsonVote)\n",
    "            \n",
    "        \n",
    "        # Sending vote to province\n",
    "        \n",
    "        soc = socket.socket(socket.AF_INET, socket.SOCK_STREAM)\n",
    "        soc.connect((socket.gethostname(), 20001)) # conncsting to fedral\n",
    "        \n",
    "        sendJson(soc, jsonVote) # sending vote to fedral\n",
    "        \n",
    "        \n",
    "        res =  recvJson(soc) # receiving fedral response\n",
    "        name, province, part, city, party = readJsonVote(res)\n",
    "        \n",
    "        if res == jsonVote:\n",
    "            print(\"--- Fedral Updated Successfully ---\")\n",
    "\n",
    "        else:\n",
    "            print(\"Error at Province\")\n",
    "        \n",
    "        \n",
    "        print_province_stats()\n",
    "        \n",
    "        soc.close()\n",
    "\n",
    "        "
   ]
  },
  {
   "cell_type": "markdown",
   "metadata": {},
   "source": [
    "# Main Socket Code"
   ]
  },
  {
   "cell_type": "code",
   "execution_count": 7,
   "metadata": {},
   "outputs": [],
   "source": [
    "# defining some values\n",
    "province_name = \"KPK\"\n",
    "#provinces = [\"Punjab\", \"Sindh\", \"KPK\", \"Balochistan\"] # Provinces\n",
    "#provincesPorts = [20002, 20005, 20008, 20011]\n",
    "parts = [\"Lower\", \"Upper\"] # Province Parts\n",
    "partsPorts = [20003, 20004]\n",
    "parties = [\"PTI\", \"PMLN\"] # Election Parties\n",
    "\n",
    "\n",
    "# Vote Count\n",
    "total_parties = [0, 0]\n",
    "total_province = [0, 0, 0, 0, 0] # punjab, lower, upper, pti, pmln"
   ]
  },
  {
   "cell_type": "code",
   "execution_count": 8,
   "metadata": {},
   "outputs": [],
   "source": [
    "fileName = \"files\\KPK_Vote_Data.json\"\n",
    "\n",
    "\n",
    "file_exists = os.path.isfile(fileName) \n",
    " \n",
    "if not file_exists:\n",
    "    with open(fileName,'w') as f: # this file will hold the vote data\n",
    "        json.dump([], f, indent=4)"
   ]
  },
  {
   "cell_type": "code",
   "execution_count": null,
   "metadata": {},
   "outputs": [
    {
     "name": "stdout",
     "output_type": "stream",
     "text": [
      "Listening for Part Requests\n",
      "\n"
     ]
    }
   ],
   "source": [
    "#Listening for socket\n",
    "s = socket.socket(socket.AF_INET, socket.SOCK_STREAM)\n",
    "s.setsockopt(socket.SOL_SOCKET, socket.SO_REUSEADDR, 1)\n",
    "s.bind((socket.gethostname(), 20008))\n",
    "\n",
    "threadsList = []\n",
    "\n",
    "print(\"Listening for Part Requests\\n\")\n",
    "while True:\n",
    "    s.listen(50)\n",
    "    clientsocket, address = s.accept()\n",
    "    \n",
    "    newthread = NewClient(address,clientsocket,fileName) \n",
    "    newthread.start() \n",
    "    threadsList.append(newthread)\n",
    "        \n",
    "    \n",
    "for thread in threadsList:\n",
    "    thread.join()\n"
   ]
  },
  {
   "cell_type": "code",
   "execution_count": null,
   "metadata": {},
   "outputs": [],
   "source": []
  },
  {
   "cell_type": "code",
   "execution_count": null,
   "metadata": {},
   "outputs": [],
   "source": []
  },
  {
   "cell_type": "code",
   "execution_count": null,
   "metadata": {},
   "outputs": [],
   "source": []
  }
 ],
 "metadata": {
  "kernelspec": {
   "display_name": "Python 3",
   "language": "python",
   "name": "python3"
  },
  "language_info": {
   "codemirror_mode": {
    "name": "ipython",
    "version": 3
   },
   "file_extension": ".py",
   "mimetype": "text/x-python",
   "name": "python",
   "nbconvert_exporter": "python",
   "pygments_lexer": "ipython3",
   "version": "3.8.1"
  }
 },
 "nbformat": 4,
 "nbformat_minor": 4
}
