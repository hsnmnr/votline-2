{
 "cells": [
  {
   "cell_type": "markdown",
   "metadata": {},
   "source": [
    "# Importing Libraries"
   ]
  },
  {
   "cell_type": "code",
   "execution_count": 1,
   "metadata": {},
   "outputs": [],
   "source": [
    "# Importing Libraries\n",
    "import socket\n",
    "import threading\n",
    "import time\n",
    "import json\n",
    "import os.path"
   ]
  },
  {
   "cell_type": "markdown",
   "metadata": {},
   "source": [
    "# Utility Functions"
   ]
  },
  {
   "cell_type": "code",
   "execution_count": 2,
   "metadata": {},
   "outputs": [],
   "source": [
    "def sendJsonVote(socket, name, province, part, city, party): # create and send json vote\n",
    "    jasonObj = writeJsonVote(name, province, part, city, party)\n",
    "    sendJson(socket, jasonObj)\n",
    "\n",
    "def recvJsonVote(socket): # recv and decode json vote\n",
    "    res = recvJson(socket)\n",
    "    return readJsonVote(res)\n",
    "\n",
    "def sendJson(socket, jasonObj): # send json vote\n",
    "    jasonStr = json.dumps(jasonObj)\n",
    "    jasonStr = jasonStr.encode()\n",
    "    socket.send(jasonStr)\n",
    "    \n",
    "def recvJson(socket): # recv json vote\n",
    "    res = socket.recv(1024)\n",
    "    res = res.decode()\n",
    "    res = json.loads(res)\n",
    "    return res\n",
    "\n",
    "def readJsonVote(res): # decode json\n",
    "    return res[\"Name\"], res[\"Province\"], res[\"Part\"], res[\"City\"], res[\"Party\"]\n",
    "\n",
    "def writeJsonVote(name, province, part, city, party):\n",
    "    jasonObj = {\"Name\": name, \"Province\": province, \"Part\": part, \"City\": city, \"Party\": party}\n",
    "    return jasonObj\n",
    "\n",
    "def printJsonVote(res):\n",
    "    print(res[\"Name\"], res[\"Province\"], res[\"Part\"], res[\"City\"], res[\"Party\"])\n",
    "\n",
    "def printVote(name, province, part, city, party):\n",
    "    print(name, province, part, city, party)\n",
    "\n",
    "def successfullyVoted(vote):\n",
    "    print(\"Following Vote Added Successfully\")\n",
    "    printJsonVote(vote)"
   ]
  },
  {
   "cell_type": "code",
   "execution_count": 3,
   "metadata": {},
   "outputs": [],
   "source": [
    "def whichPart(vote):\n",
    "    name, province, part, city, party = readJsonVote(vote)\n",
    "    ind = parts.index(part)\n",
    "    port = partsPorts[ind]\n",
    "    \n",
    "    return socket.gethostname(), port"
   ]
  },
  {
   "cell_type": "code",
   "execution_count": 4,
   "metadata": {},
   "outputs": [],
   "source": [
    "# function to Save Vote Data as Json Document \n",
    "def save_vote_data(jsonObj, filename):\n",
    "    newObj = read_file_for_append(jsonObj, filename)\n",
    "    #print(\"Data : \" + str(newObj))\n",
    "    with open(filename,'w') as f: \n",
    "        json.dump(newObj, f, indent=4) \n",
    "\n",
    "# function to add to JSON \n",
    "def read_file_for_append(jsonObj, filename): \n",
    "    with open(filename) as f:\n",
    "        file_data = json.load(f)\n",
    "        \n",
    "        file_data.append(jsonObj)\n",
    "        \n",
    "    return file_data"
   ]
  },
  {
   "cell_type": "code",
   "execution_count": 5,
   "metadata": {},
   "outputs": [],
   "source": [
    "# Vote Counting\n",
    "\n",
    "# # provinces = [\"Punjab\", \"Sindh\", \"KPK\", \"Balochistan\"] # Provinces\n",
    "# # provincesPorts = [20002, 20005, 20008, 20011]\n",
    "# # parts = [\"Lower\", \"Upper\"] # Province Parts\n",
    "# # parties = [\"PTI\", \"PMLN\"] # Election Parties\n",
    "\n",
    "# # total_provinces = [0, 0, 0, 0]\n",
    "# # total_parties = [0, 0]\n",
    "# # total_punjab = [0, 0, 0, 0, 0] # punjab, lower, upper, pti, pmln\n",
    "# # total_sindh = [0, 0, 0, 0, 0] # punjab, lower, upper, pti, pmln\n",
    "# # total_kpk = [0, 0, 0, 0, 0] # punjab, lower, upper, pti, pmln\n",
    "# # total_balochistan = [0, 0, 0, 0, 0] # punjab, lower, upper, pti, pmln\n",
    "\n",
    "def add_vote(vote):\n",
    "    global province_name, part_name, parties\n",
    "    global total_parties\n",
    "    \n",
    "    name, province, part, city, party = readJsonVote(vote) \n",
    "    \n",
    "    indParty = parties.index(party)\n",
    "    \n",
    "    print(\"Ind Party : \" + str(indParty))\n",
    "    \n",
    "    total_parties[0] = total_parties[0] + 1\n",
    "    total_parties[1 + indParty] = total_parties[1 + indParty] + 1\n",
    "    \n",
    "    \n",
    "    \n",
    "    \n",
    "def print_province_stats():\n",
    "    global province_name, part_name, parties\n",
    "    global total_parties\n",
    "    \n",
    "    print(part_name + \", \" + province_name + \"\\n->Total : \" + str(total_parties[0]) + \"\\n->PTI : \" + str(total_parties[1]) + \"\\n->PMLN : \" + str(total_parties[2]))\n",
    "    "
   ]
  },
  {
   "cell_type": "code",
   "execution_count": null,
   "metadata": {},
   "outputs": [],
   "source": []
  },
  {
   "cell_type": "code",
   "execution_count": null,
   "metadata": {},
   "outputs": [],
   "source": []
  },
  {
   "cell_type": "markdown",
   "metadata": {},
   "source": [
    "# Multi Threaded Class"
   ]
  },
  {
   "cell_type": "code",
   "execution_count": 6,
   "metadata": {},
   "outputs": [],
   "source": [
    "# Multi Threading Class\n",
    "class NewClient(threading.Thread):\n",
    "    def __init__(self,clientAddress,clientsocket, fileName):\n",
    "        threading.Thread.__init__(self)\n",
    "        self.address = clientAddress\n",
    "        self.socket = clientsocket\n",
    "        self.file = fileName\n",
    "        \n",
    "        print (\"New connection added: \", clientAddress)\n",
    "        \n",
    "    def run(self):\n",
    "        print (\"\\nConnection from : \", self.address)\n",
    "        \n",
    "        vote = recvJson(self.socket)\n",
    "        #printVote(name, province, part, city, party)\n",
    "        \n",
    "        \n",
    "        save_vote_data(vote, self.file)\n",
    "        add_vote(vote)\n",
    "        successfullyVoted(vote)\n",
    "        \n",
    "        sendJson(self.socket, vote)\n",
    "        \n",
    "        \n",
    "        # Connectinf to Provencial Server\n",
    "        soc = socket.socket(socket.AF_INET, socket.SOCK_STREAM)\n",
    "        soc.connect((socket.gethostname(), 20002))\n",
    "        \n",
    "        sendJson(soc, vote)\n",
    "        \n",
    "        res = recvJson(soc)\n",
    "        \n",
    "        if(res == soc):\n",
    "            print(\"--- Provencial Updated Successfully ---\")\n",
    "        \n",
    "        print_province_stats()\n",
    "        "
   ]
  },
  {
   "cell_type": "markdown",
   "metadata": {},
   "source": [
    "# Main Socket Code"
   ]
  },
  {
   "cell_type": "code",
   "execution_count": 7,
   "metadata": {},
   "outputs": [],
   "source": [
    "# defining some values\n",
    "province_name = \"Sindh\"\n",
    "part_name = \"Upper\"\n",
    "#provinces = [\"Punjab\", \"Sindh\", \"KPK\", \"Balochistan\"] # Provinces\n",
    "#provincesPorts = [20002, 20005, 20008, 20011]\n",
    "#parts = [\"Lower\", \"Upper\"] # Province Parts\n",
    "#partsPorts = [20003, 20004]\n",
    "parties = [\"PTI\", \"PMLN\"] # Election Parties\n",
    "\n",
    "\n",
    "# Vote Count\n",
    "total_parties = [0, 0, 0] # total, lower, upper"
   ]
  },
  {
   "cell_type": "code",
   "execution_count": 8,
   "metadata": {},
   "outputs": [],
   "source": [
    "fileName = r\"files\\Upper_Sindh_Vote_Data.json\"\n",
    "\n",
    "file_exists = os.path.isfile(fileName) \n",
    " \n",
    "if not file_exists:\n",
    "    with open(fileName,'w') as f: # this file will hold the vote data\n",
    "        json.dump([], f, indent=4)"
   ]
  },
  {
   "cell_type": "code",
   "execution_count": null,
   "metadata": {},
   "outputs": [
    {
     "name": "stdout",
     "output_type": "stream",
     "text": [
      "Listening for Client Requests\n",
      "\n"
     ]
    }
   ],
   "source": [
    "#Listening for socket\n",
    "s = socket.socket(socket.AF_INET, socket.SOCK_STREAM)\n",
    "s.setsockopt(socket.SOL_SOCKET, socket.SO_REUSEADDR, 1)\n",
    "s.bind((socket.gethostname(), 20007))\n",
    "\n",
    "threadsList = []\n",
    "\n",
    "print(\"Listening for Client Requests\\n\")\n",
    "while True:\n",
    "    s.listen(50)\n",
    "    clientsocket, address = s.accept()\n",
    "    \n",
    "    newthread = NewClient(address,clientsocket,fileName) \n",
    "    newthread.start() \n",
    "    threadsList.append(newthread)\n",
    "        \n",
    "    \n",
    "for thread in threadsList:\n",
    "    thread.join()\n"
   ]
  },
  {
   "cell_type": "code",
   "execution_count": null,
   "metadata": {},
   "outputs": [],
   "source": []
  },
  {
   "cell_type": "code",
   "execution_count": null,
   "metadata": {},
   "outputs": [],
   "source": []
  },
  {
   "cell_type": "code",
   "execution_count": null,
   "metadata": {},
   "outputs": [],
   "source": []
  }
 ],
 "metadata": {
  "kernelspec": {
   "display_name": "Python 3",
   "language": "python",
   "name": "python3"
  },
  "language_info": {
   "codemirror_mode": {
    "name": "ipython",
    "version": 3
   },
   "file_extension": ".py",
   "mimetype": "text/x-python",
   "name": "python",
   "nbconvert_exporter": "python",
   "pygments_lexer": "ipython3",
   "version": "3.8.1"
  }
 },
 "nbformat": 4,
 "nbformat_minor": 4
}
