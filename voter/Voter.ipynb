{
 "cells": [
  {
   "cell_type": "markdown",
   "metadata": {},
   "source": [
    "# Importing Libraries"
   ]
  },
  {
   "cell_type": "code",
   "execution_count": 1,
   "metadata": {},
   "outputs": [],
   "source": [
    "#INPORTING LIBRARIES\n",
    "import socket\n",
    "import json"
   ]
  },
  {
   "cell_type": "markdown",
   "metadata": {},
   "source": [
    "# Utility Functions"
   ]
  },
  {
   "cell_type": "code",
   "execution_count": 2,
   "metadata": {},
   "outputs": [],
   "source": [
    "def takeInput(valuesList):\n",
    "    print(\"Press:\")\n",
    "    i = 1\n",
    "    for val in valuesList:\n",
    "        print(\"-> \" + str(i) + \" for \" + str(val))\n",
    "        i = i + 1\n",
    "    res = 0\n",
    "    while int(res) <= 0 or int(res) > len(valuesList):\n",
    "        res = input(\"Chose :: \")\n",
    "    print(\"\\n\")\n",
    "    return int(res) - 1"
   ]
  },
  {
   "cell_type": "code",
   "execution_count": 3,
   "metadata": {},
   "outputs": [],
   "source": [
    "def sendJsonVote(socket, name, province, part, city, party):\n",
    "    \n",
    "    jasonObj = {\"Name\": name, \"Province\": province, \"Part\": part, \"City\": city, \"Party\": party}\n",
    "    jasonStr = json.dumps(jasonObj)\n",
    "    jasonStr = jasonStr.encode()\n",
    "    \n",
    "    socket.send(jasonStr)\n",
    "            \n",
    "def recvJsonVote(socket): # For only messages. If there is no name\n",
    "    res = socket.recv(1024)\n",
    "    res = res.decode()\n",
    "    res = json.loads(res)\n",
    "    \n",
    "    return res[\"Name\"], res[\"Province\"], res[\"Part\"], res[\"City\"], res[\"Party\"]"
   ]
  },
  {
   "cell_type": "code",
   "execution_count": 4,
   "metadata": {},
   "outputs": [],
   "source": [
    "def whichPort(province, part):\n",
    "    global provinces, province_val, parts, part_val\n",
    "    \n",
    "    pro_ind = provinces.index(province)\n",
    "    par_ind = parts.index(part)\n",
    "    \n",
    "    return ports[province_val[pro_ind] + part_val[par_ind]]"
   ]
  },
  {
   "cell_type": "code",
   "execution_count": null,
   "metadata": {},
   "outputs": [],
   "source": []
  },
  {
   "cell_type": "markdown",
   "metadata": {},
   "source": [
    "# Main Voter Code (client)"
   ]
  },
  {
   "cell_type": "code",
   "execution_count": 5,
   "metadata": {},
   "outputs": [],
   "source": [
    "# defining some values\n",
    "provinces = [\"Punjab\", \"Sindh\", \"KPK\", \"Balochistan\"] # Provinces\n",
    "province_val = [0, 2, 4, 6]\n",
    "parts = [\"Lower\", \"Upper\"] # Province Parts\n",
    "part_val = [0, 1]\n",
    "parties = [\"PTI\", \"PMLN\"] # Election Parties\n",
    "\n",
    "ports = [20003, 20004, 20006, 20007, 20009, 20010, 20012, 20013] # pair of two belongs to a province + first is lower and second is upper servers\n"
   ]
  },
  {
   "cell_type": "code",
   "execution_count": null,
   "metadata": {},
   "outputs": [],
   "source": [
    "# Taking Input From Voter\n",
    "name = input(\"Enter Your Name : \") # voter name\n",
    "province = provinces[takeInput(provinces)] # voter province\n",
    "part = parts[takeInput(parts)] # voter province part (lower \\ upper)\n",
    "city = input(\"Enter Your City : \") # voter city\n",
    "party = parties[takeInput(parties)] # voter party (to which he voted)\n"
   ]
  },
  {
   "cell_type": "code",
   "execution_count": null,
   "metadata": {},
   "outputs": [],
   "source": [
    "name = \"HMC\"\n",
    "province = \"Punjab\"\n",
    "part = \"Lower\"\n",
    "city = \"Sargodha\"\n",
    "party = \"PMLN\"\n",
    "\n",
    "port = whichPort(province, part)\n",
    "print(\"Port : \" + str(port))\n",
    "\n",
    "\n",
    "s = socket.socket(socket.AF_INET, socket.SOCK_STREAM)\n",
    "s.connect((socket.gethostname(), port))\n",
    "\n",
    "sendJsonVote(s, name, province, part, city, party) # Sending Vote\n",
    "\n",
    "rname, province, part, city, party = recvJsonVote(s) # Receiving Confirmed Entered Vote (rname = received name)\n",
    "\n",
    "if rname == name: # if no error (in case of error server will return error info in name variable)\n",
    "    print(name, province, part, city, party)\n",
    "    print(\"VOTE ADDED\")\n",
    "else:\n",
    "    print(\"ERROR! VOTE REJECTED\")\n",
    "    print(rname)\n",
    "\n",
    "\n",
    "s.close()"
   ]
  },
  {
   "cell_type": "code",
   "execution_count": null,
   "metadata": {},
   "outputs": [],
   "source": []
  },
  {
   "cell_type": "code",
   "execution_count": null,
   "metadata": {},
   "outputs": [],
   "source": []
  },
  {
   "cell_type": "code",
   "execution_count": null,
   "metadata": {},
   "outputs": [],
   "source": []
  },
  {
   "cell_type": "code",
   "execution_count": null,
   "metadata": {},
   "outputs": [],
   "source": []
  },
  {
   "cell_type": "markdown",
   "metadata": {},
   "source": [
    "# Sample Code to test all Servers"
   ]
  },
  {
   "cell_type": "code",
   "execution_count": 6,
   "metadata": {},
   "outputs": [
    {
     "name": "stdout",
     "output_type": "stream",
     "text": [
      "HMC Punjab Lower Multan PMLN\n",
      "VOTE ADDED\n"
     ]
    }
   ],
   "source": [
    "s = socket.socket(socket.AF_INET, socket.SOCK_STREAM)\n",
    "s.connect((socket.gethostname(), 20001))\n",
    "\n",
    "name = \"HMC\"\n",
    "province = \"Punjab\"\n",
    "part = \"Lower\"\n",
    "city = \"Multan\"\n",
    "party = \"PMLN\"\n",
    "\n",
    "sendJsonVote(s, name, province, part, city, party) # Sending Vote\n",
    "\n",
    "rname, province, part, city, party = recvJsonVote(s) # Receiving Confirmed Entered Vote (rname = received name)\n",
    "\n",
    "if rname == name: # if no error (in case of error server will return error info in name variable)\n",
    "    print(name, province, part, city, party)\n",
    "    print(\"VOTE ADDED\")\n",
    "else:\n",
    "    print(\"ERROR! VOTE REJECTED\")\n",
    "    print(rname)\n",
    "\n",
    "\n",
    "s.close()"
   ]
  },
  {
   "cell_type": "code",
   "execution_count": 7,
   "metadata": {},
   "outputs": [
    {
     "name": "stdout",
     "output_type": "stream",
     "text": [
      "Ahsan Punjab Upper Islamabad PTI\n",
      "VOTE ADDED\n"
     ]
    }
   ],
   "source": [
    "s = socket.socket(socket.AF_INET, socket.SOCK_STREAM)\n",
    "s.connect((socket.gethostname(), 20001))\n",
    "\n",
    "name = \"Ahsan\"\n",
    "province = \"Punjab\"\n",
    "part = \"Upper\"\n",
    "city = \"Islamabad\"\n",
    "party = \"PTI\"\n",
    "\n",
    "sendJsonVote(s, name, province, part, city, party) # Sending Vote\n",
    "\n",
    "rname, province, part, city, party = recvJsonVote(s) # Receiving Confirmed Entered Vote (rname = received name)\n",
    "\n",
    "if rname == name: # if no error (in case of error server will return error info in name variable)\n",
    "    print(name, province, part, city, party)\n",
    "    print(\"VOTE ADDED\")\n",
    "else:\n",
    "    print(\"ERROR! VOTE REJECTED\")\n",
    "    print(rname)\n",
    "\n",
    "\n",
    "s.close()"
   ]
  },
  {
   "cell_type": "code",
   "execution_count": 8,
   "metadata": {},
   "outputs": [
    {
     "name": "stdout",
     "output_type": "stream",
     "text": [
      "Qasim Sindh Upper Gawadar PTI\n",
      "VOTE ADDED\n"
     ]
    }
   ],
   "source": [
    "s = socket.socket(socket.AF_INET, socket.SOCK_STREAM)\n",
    "s.connect((socket.gethostname(), 20001))\n",
    "\n",
    "name = \"Qasim\"\n",
    "province = \"Sindh\"\n",
    "part = \"Upper\"\n",
    "city = \"Gawadar\"\n",
    "party = \"PTI\"\n",
    "\n",
    "sendJsonVote(s, name, province, part, city, party) # Sending Vote\n",
    "\n",
    "rname, province, part, city, party = recvJsonVote(s) # Receiving Confirmed Entered Vote (rname = received name)\n",
    "\n",
    "if rname == name: # if no error (in case of error server will return error info in name variable)\n",
    "    print(name, province, part, city, party)\n",
    "    print(\"VOTE ADDED\")\n",
    "else:\n",
    "    print(\"ERROR! VOTE REJECTED\")\n",
    "    print(rname)\n",
    "\n",
    "\n",
    "s.close()"
   ]
  },
  {
   "cell_type": "code",
   "execution_count": 9,
   "metadata": {},
   "outputs": [
    {
     "name": "stdout",
     "output_type": "stream",
     "text": [
      "Bilal Sindh Lower Karachi PTI\n",
      "VOTE ADDED\n"
     ]
    }
   ],
   "source": [
    "s = socket.socket(socket.AF_INET, socket.SOCK_STREAM)\n",
    "s.connect((socket.gethostname(), 20001))\n",
    "\n",
    "name = \"Bilal\"\n",
    "province = \"Sindh\"\n",
    "part = \"Lower\"\n",
    "city = \"Karachi\"\n",
    "party = \"PTI\"\n",
    "\n",
    "sendJsonVote(s, name, province, part, city, party) # Sending Vote\n",
    "\n",
    "rname, province, part, city, party = recvJsonVote(s) # Receiving Confirmed Entered Vote (rname = received name)\n",
    "\n",
    "if rname == name: # if no error (in case of error server will return error info in name variable)\n",
    "    print(name, province, part, city, party)\n",
    "    print(\"VOTE ADDED\")\n",
    "else:\n",
    "    print(\"ERROR! VOTE REJECTED\")\n",
    "    print(rname)\n",
    "\n",
    "\n",
    "s.close()"
   ]
  },
  {
   "cell_type": "code",
   "execution_count": 10,
   "metadata": {},
   "outputs": [
    {
     "name": "stdout",
     "output_type": "stream",
     "text": [
      "Ishfaq KPK Lower DIG PTI\n",
      "VOTE ADDED\n"
     ]
    }
   ],
   "source": [
    "s = socket.socket(socket.AF_INET, socket.SOCK_STREAM)\n",
    "s.connect((socket.gethostname(), 20001))\n",
    "\n",
    "name = \"Ishfaq\"\n",
    "province = \"KPK\"\n",
    "part = \"Lower\"\n",
    "city = \"DIG\"\n",
    "party = \"PTI\"\n",
    "\n",
    "sendJsonVote(s, name, province, part, city, party) # Sending Vote\n",
    "\n",
    "rname, province, part, city, party = recvJsonVote(s) # Receiving Confirmed Entered Vote (rname = received name)\n",
    "\n",
    "if rname == name: # if no error (in case of error server will return error info in name variable)\n",
    "    print(name, province, part, city, party)\n",
    "    print(\"VOTE ADDED\")\n",
    "else:\n",
    "    print(\"ERROR! VOTE REJECTED\")\n",
    "    print(rname)\n",
    "\n",
    "\n",
    "s.close()"
   ]
  },
  {
   "cell_type": "code",
   "execution_count": 11,
   "metadata": {},
   "outputs": [
    {
     "name": "stdout",
     "output_type": "stream",
     "text": [
      "Yahya KPK Upper UDIG PMLN\n",
      "VOTE ADDED\n"
     ]
    }
   ],
   "source": [
    "s = socket.socket(socket.AF_INET, socket.SOCK_STREAM)\n",
    "s.connect((socket.gethostname(), 20001))\n",
    "\n",
    "name = \"Yahya\"\n",
    "province = \"KPK\"\n",
    "part = \"Upper\"\n",
    "city = \"UDIG\"\n",
    "party = \"PMLN\"\n",
    "\n",
    "sendJsonVote(s, name, province, part, city, party) # Sending Vote\n",
    "\n",
    "rname, province, part, city, party = recvJsonVote(s) # Receiving Confirmed Entered Vote (rname = received name)\n",
    "\n",
    "if rname == name: # if no error (in case of error server will return error info in name variable)\n",
    "    print(name, province, part, city, party)\n",
    "    print(\"VOTE ADDED\")\n",
    "else:\n",
    "    print(\"ERROR! VOTE REJECTED\")\n",
    "    print(rname)\n",
    "\n",
    "\n",
    "s.close()"
   ]
  },
  {
   "cell_type": "code",
   "execution_count": 12,
   "metadata": {},
   "outputs": [
    {
     "name": "stdout",
     "output_type": "stream",
     "text": [
      "Asghar Balochistan Lower SUI PMLN\n",
      "VOTE ADDED\n"
     ]
    }
   ],
   "source": [
    "s = socket.socket(socket.AF_INET, socket.SOCK_STREAM)\n",
    "s.connect((socket.gethostname(), 20001))\n",
    "\n",
    "name = \"Asghar\"\n",
    "province = \"Balochistan\"\n",
    "part = \"Lower\"\n",
    "city = \"SUI\"\n",
    "party = \"PMLN\"\n",
    "\n",
    "sendJsonVote(s, name, province, part, city, party) # Sending Vote\n",
    "\n",
    "rname, province, part, city, party = recvJsonVote(s) # Receiving Confirmed Entered Vote (rname = received name)\n",
    "\n",
    "if rname == name: # if no error (in case of error server will return error info in name variable)\n",
    "    print(name, province, part, city, party)\n",
    "    print(\"VOTE ADDED\")\n",
    "else:\n",
    "    print(\"ERROR! VOTE REJECTED\")\n",
    "    print(rname)\n",
    "\n",
    "\n",
    "s.close()"
   ]
  },
  {
   "cell_type": "code",
   "execution_count": 13,
   "metadata": {},
   "outputs": [
    {
     "name": "stdout",
     "output_type": "stream",
     "text": [
      "Wajid Balochistan Upper USUI PMLN\n",
      "VOTE ADDED\n"
     ]
    }
   ],
   "source": [
    "s = socket.socket(socket.AF_INET, socket.SOCK_STREAM)\n",
    "s.connect((socket.gethostname(), 20001))\n",
    "\n",
    "name = \"Wajid\"\n",
    "province = \"Balochistan\"\n",
    "part = \"Upper\"\n",
    "city = \"USUI\"\n",
    "party = \"PMLN\"\n",
    "\n",
    "sendJsonVote(s, name, province, part, city, party) # Sending Vote\n",
    "\n",
    "rname, province, part, city, party = recvJsonVote(s) # Receiving Confirmed Entered Vote (rname = received name)\n",
    "\n",
    "if rname == name: # if no error (in case of error server will return error info in name variable)\n",
    "    print(name, province, part, city, party)\n",
    "    print(\"VOTE ADDED\")\n",
    "else:\n",
    "    print(\"ERROR! VOTE REJECTED\")\n",
    "    print(rname)\n",
    "\n",
    "\n",
    "s.close()"
   ]
  },
  {
   "cell_type": "code",
   "execution_count": null,
   "metadata": {},
   "outputs": [],
   "source": []
  }
 ],
 "metadata": {
  "kernelspec": {
   "display_name": "Python 3",
   "language": "python",
   "name": "python3"
  },
  "language_info": {
   "codemirror_mode": {
    "name": "ipython",
    "version": 3
   },
   "file_extension": ".py",
   "mimetype": "text/x-python",
   "name": "python",
   "nbconvert_exporter": "python",
   "pygments_lexer": "ipython3",
   "version": "3.8.1"
  }
 },
 "nbformat": 4,
 "nbformat_minor": 4
}
